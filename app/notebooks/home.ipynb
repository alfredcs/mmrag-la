{
 "cells": [
  {
   "cell_type": "markdown",
   "id": "7a432521-70e9-45a2-8b98-effd0ea47095",
   "metadata": {},
   "source": [
    "# Multimodal RAG with Amazon Bedrock Knowledge Base and AOSS\n",
    "\n",
    "In today's data-driven world, the ability to effectively retrieve and generate relevant information from diverse sources is becoming increasingly crucial. Retrieval-Augmented Generation (RAG) models have emerged as a powerful approach to tackle this challenge, combining the strengths of retrieval systems and language models. In this blog post, we'll explore how to build a multimodal RAG solution using Amazon Bedrock Knowledge Base, Claude 3 (an AI assistant), and Amazon OpenSearch Serverless.\n",
    "\n",
    "Amazon Bedrock Knowledge Base is a fully managed service that allows you to create and manage private knowledge bases from various data sources, including text, images, and videos. By leveraging Bedrock, we can create a centralized repository of information tailored to our specific needs.\n",
    "\n",
    "Anthropics Claude 3, an advanced visual language model available on Amazon Bedrock, brings its powerful visual and natural language processing capabilities to the table. With its ability to understand and generate human-like text, Claude 3 can effectively process and synthesize information from the knowledge base.\n",
    "\n",
    "Amazon OpenSearch Serverless, a fully managed service based on OpenSearch (a fork of Elasticsearch), provides a scalable and cost-effective solution for indexing and searching our knowledge base. Its serverless architecture ensures seamless scaling and eliminates the need for infrastructure management.\n",
    "\n",
    "By combining these three components, we can create a multimodal RAG solution that can retrieve relevant information from our knowledge base, process it using Claude 3, and generate coherent and contextual responses. This approach has numerous applications, ranging from customer support and knowledge management to research and content creation.\n",
    "\n",
    "In the following sections, we'll walk through the steps to set up and configure each component, integrate them into a cohesive solution, and demonstrate its capabilities with a practical example."
   ]
  },
  {
   "cell_type": "markdown",
   "id": "8a47e4f3-f108-4717-8ebc-d3ee25746fc9",
   "metadata": {},
   "source": [
    "## Prepare environment"
   ]
  },
  {
   "cell_type": "code",
   "execution_count": 1,
   "id": "008b4b62-6184-4555-b835-4d458081acf3",
   "metadata": {
    "scrolled": true
   },
   "outputs": [
    {
     "name": "stdout",
     "output_type": "stream",
     "text": [
      "Looking in indexes: https://pypi.org/simple, https://pip.repos.neuron.amazonaws.com\n",
      "Requirement already satisfied: streamlit in /home/alfred/anaconda3/envs/dui/lib/python3.11/site-packages (1.33.0)\n",
      "Requirement already satisfied: altair<6,>=4.0 in /home/alfred/anaconda3/envs/dui/lib/python3.11/site-packages (from streamlit) (5.2.0)\n",
      "Requirement already satisfied: blinker<2,>=1.0.0 in /home/alfred/anaconda3/envs/dui/lib/python3.11/site-packages (from streamlit) (1.7.0)\n",
      "Requirement already satisfied: cachetools<6,>=4.0 in /home/alfred/anaconda3/envs/dui/lib/python3.11/site-packages (from streamlit) (5.3.2)\n",
      "Requirement already satisfied: click<9,>=7.0 in /home/alfred/anaconda3/envs/dui/lib/python3.11/site-packages (from streamlit) (8.1.7)\n",
      "Requirement already satisfied: numpy<2,>=1.19.3 in /home/alfred/anaconda3/envs/dui/lib/python3.11/site-packages (from streamlit) (1.26.4)\n",
      "Requirement already satisfied: packaging<25,>=16.8 in /home/alfred/anaconda3/envs/dui/lib/python3.11/site-packages (from streamlit) (23.2)\n",
      "Requirement already satisfied: pandas<3,>=1.3.0 in /home/alfred/anaconda3/envs/dui/lib/python3.11/site-packages (from streamlit) (2.2.1)\n",
      "Requirement already satisfied: pillow<11,>=7.1.0 in /home/alfred/anaconda3/envs/dui/lib/python3.11/site-packages (from streamlit) (10.2.0)\n",
      "Requirement already satisfied: protobuf<5,>=3.20 in /home/alfred/anaconda3/envs/dui/lib/python3.11/site-packages (from streamlit) (4.25.3)\n",
      "Requirement already satisfied: pyarrow>=7.0 in /home/alfred/anaconda3/envs/dui/lib/python3.11/site-packages (from streamlit) (15.0.0)\n",
      "Requirement already satisfied: requests<3,>=2.27 in /home/alfred/anaconda3/envs/dui/lib/python3.11/site-packages (from streamlit) (2.31.0)\n",
      "Requirement already satisfied: rich<14,>=10.14.0 in /home/alfred/anaconda3/envs/dui/lib/python3.11/site-packages (from streamlit) (13.7.0)\n",
      "Requirement already satisfied: tenacity<9,>=8.1.0 in /home/alfred/anaconda3/envs/dui/lib/python3.11/site-packages (from streamlit) (8.2.3)\n",
      "Requirement already satisfied: toml<2,>=0.10.1 in /home/alfred/anaconda3/envs/dui/lib/python3.11/site-packages (from streamlit) (0.10.2)\n",
      "Requirement already satisfied: typing-extensions<5,>=4.3.0 in /home/alfred/anaconda3/envs/dui/lib/python3.11/site-packages (from streamlit) (4.8.0)\n",
      "Requirement already satisfied: gitpython!=3.1.19,<4,>=3.0.7 in /home/alfred/anaconda3/envs/dui/lib/python3.11/site-packages (from streamlit) (3.1.41)\n",
      "Requirement already satisfied: pydeck<1,>=0.8.0b4 in /home/alfred/anaconda3/envs/dui/lib/python3.11/site-packages (from streamlit) (0.8.1b0)\n",
      "Requirement already satisfied: tornado<7,>=6.0.3 in /home/alfred/anaconda3/envs/dui/lib/python3.11/site-packages (from streamlit) (6.4)\n",
      "Requirement already satisfied: watchdog>=2.1.5 in /home/alfred/anaconda3/envs/dui/lib/python3.11/site-packages (from streamlit) (4.0.0)\n",
      "Requirement already satisfied: jinja2 in /home/alfred/anaconda3/envs/dui/lib/python3.11/site-packages (from altair<6,>=4.0->streamlit) (3.1.2)\n",
      "Requirement already satisfied: jsonschema>=3.0 in /home/alfred/anaconda3/envs/dui/lib/python3.11/site-packages (from altair<6,>=4.0->streamlit) (4.19.1)\n",
      "Requirement already satisfied: toolz in /home/alfred/anaconda3/envs/dui/lib/python3.11/site-packages (from altair<6,>=4.0->streamlit) (0.12.0)\n",
      "Requirement already satisfied: gitdb<5,>=4.0.1 in /home/alfred/anaconda3/envs/dui/lib/python3.11/site-packages (from gitpython!=3.1.19,<4,>=3.0.7->streamlit) (4.0.10)\n",
      "Requirement already satisfied: python-dateutil>=2.8.2 in /home/alfred/anaconda3/envs/dui/lib/python3.11/site-packages (from pandas<3,>=1.3.0->streamlit) (2.9.0.post0)\n",
      "Requirement already satisfied: pytz>=2020.1 in /home/alfred/anaconda3/envs/dui/lib/python3.11/site-packages (from pandas<3,>=1.3.0->streamlit) (2024.1)\n",
      "Requirement already satisfied: tzdata>=2022.7 in /home/alfred/anaconda3/envs/dui/lib/python3.11/site-packages (from pandas<3,>=1.3.0->streamlit) (2024.1)\n",
      "Requirement already satisfied: charset-normalizer<4,>=2 in /home/alfred/anaconda3/envs/dui/lib/python3.11/site-packages (from requests<3,>=2.27->streamlit) (3.2.0)\n",
      "Requirement already satisfied: idna<4,>=2.5 in /home/alfred/anaconda3/envs/dui/lib/python3.11/site-packages (from requests<3,>=2.27->streamlit) (3.4)\n",
      "Requirement already satisfied: urllib3<3,>=1.21.1 in /home/alfred/anaconda3/envs/dui/lib/python3.11/site-packages (from requests<3,>=2.27->streamlit) (1.26.18)\n",
      "Requirement already satisfied: certifi>=2017.4.17 in /home/alfred/anaconda3/envs/dui/lib/python3.11/site-packages (from requests<3,>=2.27->streamlit) (2024.2.2)\n",
      "Requirement already satisfied: markdown-it-py>=2.2.0 in /home/alfred/anaconda3/envs/dui/lib/python3.11/site-packages (from rich<14,>=10.14.0->streamlit) (3.0.0)\n",
      "Requirement already satisfied: pygments<3.0.0,>=2.13.0 in /home/alfred/anaconda3/envs/dui/lib/python3.11/site-packages (from rich<14,>=10.14.0->streamlit) (2.17.2)\n",
      "Requirement already satisfied: smmap<6,>=3.0.1 in /home/alfred/anaconda3/envs/dui/lib/python3.11/site-packages (from gitdb<5,>=4.0.1->gitpython!=3.1.19,<4,>=3.0.7->streamlit) (5.0.1)\n",
      "Requirement already satisfied: MarkupSafe>=2.0 in /home/alfred/anaconda3/envs/dui/lib/python3.11/site-packages (from jinja2->altair<6,>=4.0->streamlit) (2.1.3)\n",
      "Requirement already satisfied: attrs>=22.2.0 in /home/alfred/anaconda3/envs/dui/lib/python3.11/site-packages (from jsonschema>=3.0->altair<6,>=4.0->streamlit) (23.1.0)\n",
      "Requirement already satisfied: jsonschema-specifications>=2023.03.6 in /home/alfred/anaconda3/envs/dui/lib/python3.11/site-packages (from jsonschema>=3.0->altair<6,>=4.0->streamlit) (2023.7.1)\n",
      "Requirement already satisfied: referencing>=0.28.4 in /home/alfred/anaconda3/envs/dui/lib/python3.11/site-packages (from jsonschema>=3.0->altair<6,>=4.0->streamlit) (0.30.2)\n",
      "Requirement already satisfied: rpds-py>=0.7.1 in /home/alfred/anaconda3/envs/dui/lib/python3.11/site-packages (from jsonschema>=3.0->altair<6,>=4.0->streamlit) (0.10.3)\n",
      "Requirement already satisfied: mdurl~=0.1 in /home/alfred/anaconda3/envs/dui/lib/python3.11/site-packages (from markdown-it-py>=2.2.0->rich<14,>=10.14.0->streamlit) (0.1.2)\n",
      "Requirement already satisfied: six>=1.5 in /home/alfred/anaconda3/envs/dui/lib/python3.11/site-packages (from python-dateutil>=2.8.2->pandas<3,>=1.3.0->streamlit) (1.16.0)\n",
      "Note: you may need to restart the kernel to use updated packages.\n",
      "Looking in indexes: https://pypi.org/simple, https://pip.repos.neuron.amazonaws.com\n",
      "Collecting streamlit_jupyter\n",
      "  Downloading streamlit_jupyter-0.2.1-py3-none-any.whl.metadata (8.1 kB)\n",
      "Collecting fastcore (from streamlit_jupyter)\n",
      "  Downloading fastcore-1.5.29-py3-none-any.whl.metadata (3.5 kB)\n",
      "Collecting ipywidgets==7.7.2 (from streamlit_jupyter)\n",
      "  Downloading ipywidgets-7.7.2-py2.py3-none-any.whl.metadata (1.9 kB)\n",
      "Collecting jupyter (from streamlit_jupyter)\n",
      "  Downloading jupyter-1.0.0-py2.py3-none-any.whl.metadata (995 bytes)\n",
      "Collecting stqdm (from streamlit_jupyter)\n",
      "  Downloading stqdm-0.0.5-py3-none-any.whl.metadata (3.0 kB)\n",
      "Requirement already satisfied: streamlit>=1.19 in /home/alfred/anaconda3/envs/dui/lib/python3.11/site-packages (from streamlit_jupyter) (1.33.0)\n",
      "Requirement already satisfied: tabulate in /home/alfred/anaconda3/envs/dui/lib/python3.11/site-packages (from streamlit_jupyter) (0.9.0)\n",
      "Requirement already satisfied: tqdm in /home/alfred/anaconda3/envs/dui/lib/python3.11/site-packages (from streamlit_jupyter) (4.66.1)\n",
      "Requirement already satisfied: ipykernel>=4.5.1 in /home/alfred/anaconda3/envs/dui/lib/python3.11/site-packages (from ipywidgets==7.7.2->streamlit_jupyter) (6.29.3)\n",
      "Requirement already satisfied: ipython-genutils~=0.2.0 in /home/alfred/anaconda3/envs/dui/lib/python3.11/site-packages (from ipywidgets==7.7.2->streamlit_jupyter) (0.2.0)\n",
      "Requirement already satisfied: traitlets>=4.3.1 in /home/alfred/anaconda3/envs/dui/lib/python3.11/site-packages (from ipywidgets==7.7.2->streamlit_jupyter) (5.7.1)\n",
      "Collecting widgetsnbextension~=3.6.0 (from ipywidgets==7.7.2->streamlit_jupyter)\n",
      "  Downloading widgetsnbextension-3.6.6-py2.py3-none-any.whl.metadata (1.3 kB)\n",
      "Requirement already satisfied: ipython>=4.0.0 in /home/alfred/anaconda3/envs/dui/lib/python3.11/site-packages (from ipywidgets==7.7.2->streamlit_jupyter) (8.15.0)\n",
      "Collecting jupyterlab-widgets<3,>=1.0.0 (from ipywidgets==7.7.2->streamlit_jupyter)\n",
      "  Downloading jupyterlab_widgets-1.1.7-py3-none-any.whl.metadata (3.7 kB)\n",
      "Requirement already satisfied: altair<6,>=4.0 in /home/alfred/anaconda3/envs/dui/lib/python3.11/site-packages (from streamlit>=1.19->streamlit_jupyter) (5.2.0)\n",
      "Requirement already satisfied: blinker<2,>=1.0.0 in /home/alfred/anaconda3/envs/dui/lib/python3.11/site-packages (from streamlit>=1.19->streamlit_jupyter) (1.7.0)\n",
      "Requirement already satisfied: cachetools<6,>=4.0 in /home/alfred/anaconda3/envs/dui/lib/python3.11/site-packages (from streamlit>=1.19->streamlit_jupyter) (5.3.2)\n",
      "Requirement already satisfied: click<9,>=7.0 in /home/alfred/anaconda3/envs/dui/lib/python3.11/site-packages (from streamlit>=1.19->streamlit_jupyter) (8.1.7)\n",
      "Requirement already satisfied: numpy<2,>=1.19.3 in /home/alfred/anaconda3/envs/dui/lib/python3.11/site-packages (from streamlit>=1.19->streamlit_jupyter) (1.26.4)\n",
      "Requirement already satisfied: packaging<25,>=16.8 in /home/alfred/anaconda3/envs/dui/lib/python3.11/site-packages (from streamlit>=1.19->streamlit_jupyter) (23.2)\n",
      "Requirement already satisfied: pandas<3,>=1.3.0 in /home/alfred/anaconda3/envs/dui/lib/python3.11/site-packages (from streamlit>=1.19->streamlit_jupyter) (2.2.1)\n",
      "Requirement already satisfied: pillow<11,>=7.1.0 in /home/alfred/anaconda3/envs/dui/lib/python3.11/site-packages (from streamlit>=1.19->streamlit_jupyter) (10.2.0)\n",
      "Requirement already satisfied: protobuf<5,>=3.20 in /home/alfred/anaconda3/envs/dui/lib/python3.11/site-packages (from streamlit>=1.19->streamlit_jupyter) (4.25.3)\n",
      "Requirement already satisfied: pyarrow>=7.0 in /home/alfred/anaconda3/envs/dui/lib/python3.11/site-packages (from streamlit>=1.19->streamlit_jupyter) (15.0.0)\n",
      "Requirement already satisfied: requests<3,>=2.27 in /home/alfred/anaconda3/envs/dui/lib/python3.11/site-packages (from streamlit>=1.19->streamlit_jupyter) (2.31.0)\n",
      "Requirement already satisfied: rich<14,>=10.14.0 in /home/alfred/anaconda3/envs/dui/lib/python3.11/site-packages (from streamlit>=1.19->streamlit_jupyter) (13.7.0)\n",
      "Requirement already satisfied: tenacity<9,>=8.1.0 in /home/alfred/anaconda3/envs/dui/lib/python3.11/site-packages (from streamlit>=1.19->streamlit_jupyter) (8.2.3)\n",
      "Requirement already satisfied: toml<2,>=0.10.1 in /home/alfred/anaconda3/envs/dui/lib/python3.11/site-packages (from streamlit>=1.19->streamlit_jupyter) (0.10.2)\n",
      "Requirement already satisfied: typing-extensions<5,>=4.3.0 in /home/alfred/anaconda3/envs/dui/lib/python3.11/site-packages (from streamlit>=1.19->streamlit_jupyter) (4.8.0)\n",
      "Requirement already satisfied: gitpython!=3.1.19,<4,>=3.0.7 in /home/alfred/anaconda3/envs/dui/lib/python3.11/site-packages (from streamlit>=1.19->streamlit_jupyter) (3.1.41)\n",
      "Requirement already satisfied: pydeck<1,>=0.8.0b4 in /home/alfred/anaconda3/envs/dui/lib/python3.11/site-packages (from streamlit>=1.19->streamlit_jupyter) (0.8.1b0)\n",
      "Requirement already satisfied: tornado<7,>=6.0.3 in /home/alfred/anaconda3/envs/dui/lib/python3.11/site-packages (from streamlit>=1.19->streamlit_jupyter) (6.4)\n",
      "Requirement already satisfied: watchdog>=2.1.5 in /home/alfred/anaconda3/envs/dui/lib/python3.11/site-packages (from streamlit>=1.19->streamlit_jupyter) (4.0.0)\n",
      "Requirement already satisfied: pip in /home/alfred/anaconda3/envs/dui/lib/python3.11/site-packages (from fastcore->streamlit_jupyter) (24.0)\n",
      "Requirement already satisfied: notebook in /home/alfred/anaconda3/envs/dui/lib/python3.11/site-packages (from jupyter->streamlit_jupyter) (7.0.4)\n",
      "Collecting qtconsole (from jupyter->streamlit_jupyter)\n",
      "  Downloading qtconsole-5.5.1-py3-none-any.whl.metadata (5.1 kB)\n",
      "Collecting jupyter-console (from jupyter->streamlit_jupyter)\n",
      "  Downloading jupyter_console-6.6.3-py3-none-any.whl.metadata (5.8 kB)\n",
      "Requirement already satisfied: nbconvert in /home/alfred/anaconda3/envs/dui/lib/python3.11/site-packages (from jupyter->streamlit_jupyter) (7.8.0)\n",
      "Requirement already satisfied: jinja2 in /home/alfred/anaconda3/envs/dui/lib/python3.11/site-packages (from altair<6,>=4.0->streamlit>=1.19->streamlit_jupyter) (3.1.2)\n",
      "Requirement already satisfied: jsonschema>=3.0 in /home/alfred/anaconda3/envs/dui/lib/python3.11/site-packages (from altair<6,>=4.0->streamlit>=1.19->streamlit_jupyter) (4.19.1)\n",
      "Requirement already satisfied: toolz in /home/alfred/anaconda3/envs/dui/lib/python3.11/site-packages (from altair<6,>=4.0->streamlit>=1.19->streamlit_jupyter) (0.12.0)\n",
      "Requirement already satisfied: gitdb<5,>=4.0.1 in /home/alfred/anaconda3/envs/dui/lib/python3.11/site-packages (from gitpython!=3.1.19,<4,>=3.0.7->streamlit>=1.19->streamlit_jupyter) (4.0.10)\n",
      "Requirement already satisfied: comm>=0.1.1 in /home/alfred/anaconda3/envs/dui/lib/python3.11/site-packages (from ipykernel>=4.5.1->ipywidgets==7.7.2->streamlit_jupyter) (0.1.4)\n",
      "Requirement already satisfied: debugpy>=1.6.5 in /home/alfred/anaconda3/envs/dui/lib/python3.11/site-packages (from ipykernel>=4.5.1->ipywidgets==7.7.2->streamlit_jupyter) (1.6.7)\n",
      "Requirement already satisfied: jupyter-client>=6.1.12 in /home/alfred/anaconda3/envs/dui/lib/python3.11/site-packages (from ipykernel>=4.5.1->ipywidgets==7.7.2->streamlit_jupyter) (8.6.1)\n",
      "Requirement already satisfied: jupyter-core!=5.0.*,>=4.12 in /home/alfred/anaconda3/envs/dui/lib/python3.11/site-packages (from ipykernel>=4.5.1->ipywidgets==7.7.2->streamlit_jupyter) (5.7.2)\n",
      "Requirement already satisfied: matplotlib-inline>=0.1 in /home/alfred/anaconda3/envs/dui/lib/python3.11/site-packages (from ipykernel>=4.5.1->ipywidgets==7.7.2->streamlit_jupyter) (0.1.2)\n",
      "Requirement already satisfied: nest-asyncio in /home/alfred/anaconda3/envs/dui/lib/python3.11/site-packages (from ipykernel>=4.5.1->ipywidgets==7.7.2->streamlit_jupyter) (1.6.0)\n",
      "Requirement already satisfied: psutil in /home/alfred/anaconda3/envs/dui/lib/python3.11/site-packages (from ipykernel>=4.5.1->ipywidgets==7.7.2->streamlit_jupyter) (5.9.0)\n",
      "Requirement already satisfied: pyzmq>=24 in /home/alfred/anaconda3/envs/dui/lib/python3.11/site-packages (from ipykernel>=4.5.1->ipywidgets==7.7.2->streamlit_jupyter) (25.1.0)\n",
      "Requirement already satisfied: backcall in /home/alfred/anaconda3/envs/dui/lib/python3.11/site-packages (from ipython>=4.0.0->ipywidgets==7.7.2->streamlit_jupyter) (0.2.0)\n",
      "Requirement already satisfied: decorator in /home/alfred/anaconda3/envs/dui/lib/python3.11/site-packages (from ipython>=4.0.0->ipywidgets==7.7.2->streamlit_jupyter) (5.1.1)\n",
      "Requirement already satisfied: jedi>=0.16 in /home/alfred/anaconda3/envs/dui/lib/python3.11/site-packages (from ipython>=4.0.0->ipywidgets==7.7.2->streamlit_jupyter) (0.18.1)\n",
      "Requirement already satisfied: pickleshare in /home/alfred/anaconda3/envs/dui/lib/python3.11/site-packages (from ipython>=4.0.0->ipywidgets==7.7.2->streamlit_jupyter) (0.7.5)\n",
      "Requirement already satisfied: prompt-toolkit!=3.0.37,<3.1.0,>=3.0.30 in /home/alfred/anaconda3/envs/dui/lib/python3.11/site-packages (from ipython>=4.0.0->ipywidgets==7.7.2->streamlit_jupyter) (3.0.36)\n",
      "Requirement already satisfied: pygments>=2.4.0 in /home/alfred/anaconda3/envs/dui/lib/python3.11/site-packages (from ipython>=4.0.0->ipywidgets==7.7.2->streamlit_jupyter) (2.17.2)\n",
      "Requirement already satisfied: stack-data in /home/alfred/anaconda3/envs/dui/lib/python3.11/site-packages (from ipython>=4.0.0->ipywidgets==7.7.2->streamlit_jupyter) (0.2.0)\n",
      "Requirement already satisfied: pexpect>4.3 in /home/alfred/anaconda3/envs/dui/lib/python3.11/site-packages (from ipython>=4.0.0->ipywidgets==7.7.2->streamlit_jupyter) (4.8.0)\n",
      "Requirement already satisfied: python-dateutil>=2.8.2 in /home/alfred/anaconda3/envs/dui/lib/python3.11/site-packages (from pandas<3,>=1.3.0->streamlit>=1.19->streamlit_jupyter) (2.9.0.post0)\n",
      "Requirement already satisfied: pytz>=2020.1 in /home/alfred/anaconda3/envs/dui/lib/python3.11/site-packages (from pandas<3,>=1.3.0->streamlit>=1.19->streamlit_jupyter) (2024.1)\n",
      "Requirement already satisfied: tzdata>=2022.7 in /home/alfred/anaconda3/envs/dui/lib/python3.11/site-packages (from pandas<3,>=1.3.0->streamlit>=1.19->streamlit_jupyter) (2024.1)\n",
      "Requirement already satisfied: charset-normalizer<4,>=2 in /home/alfred/anaconda3/envs/dui/lib/python3.11/site-packages (from requests<3,>=2.27->streamlit>=1.19->streamlit_jupyter) (3.2.0)\n",
      "Requirement already satisfied: idna<4,>=2.5 in /home/alfred/anaconda3/envs/dui/lib/python3.11/site-packages (from requests<3,>=2.27->streamlit>=1.19->streamlit_jupyter) (3.4)\n",
      "Requirement already satisfied: urllib3<3,>=1.21.1 in /home/alfred/anaconda3/envs/dui/lib/python3.11/site-packages (from requests<3,>=2.27->streamlit>=1.19->streamlit_jupyter) (1.26.18)\n",
      "Requirement already satisfied: certifi>=2017.4.17 in /home/alfred/anaconda3/envs/dui/lib/python3.11/site-packages (from requests<3,>=2.27->streamlit>=1.19->streamlit_jupyter) (2024.2.2)\n",
      "Requirement already satisfied: markdown-it-py>=2.2.0 in /home/alfred/anaconda3/envs/dui/lib/python3.11/site-packages (from rich<14,>=10.14.0->streamlit>=1.19->streamlit_jupyter) (3.0.0)\n",
      "Requirement already satisfied: jupyter-server<3,>=2.4.0 in /home/alfred/anaconda3/envs/dui/lib/python3.11/site-packages (from notebook->jupyter->streamlit_jupyter) (2.13.0)\n",
      "Requirement already satisfied: jupyterlab-server<3,>=2.22.1 in /home/alfred/anaconda3/envs/dui/lib/python3.11/site-packages (from notebook->jupyter->streamlit_jupyter) (2.25.4)\n",
      "Requirement already satisfied: jupyterlab<5,>=4.0.2 in /home/alfred/anaconda3/envs/dui/lib/python3.11/site-packages (from notebook->jupyter->streamlit_jupyter) (4.1.5)\n",
      "Requirement already satisfied: notebook-shim<0.3,>=0.2 in /home/alfred/anaconda3/envs/dui/lib/python3.11/site-packages (from notebook->jupyter->streamlit_jupyter) (0.2.3)\n",
      "Requirement already satisfied: beautifulsoup4 in /home/alfred/anaconda3/envs/dui/lib/python3.11/site-packages (from nbconvert->jupyter->streamlit_jupyter) (4.12.3)\n",
      "Requirement already satisfied: bleach!=5.0.0 in /home/alfred/anaconda3/envs/dui/lib/python3.11/site-packages (from nbconvert->jupyter->streamlit_jupyter) (6.0.0)\n",
      "Requirement already satisfied: defusedxml in /home/alfred/anaconda3/envs/dui/lib/python3.11/site-packages (from nbconvert->jupyter->streamlit_jupyter) (0.7.1)\n",
      "Requirement already satisfied: jupyterlab-pygments in /home/alfred/anaconda3/envs/dui/lib/python3.11/site-packages (from nbconvert->jupyter->streamlit_jupyter) (0.3.0)\n",
      "Requirement already satisfied: markupsafe>=2.0 in /home/alfred/anaconda3/envs/dui/lib/python3.11/site-packages (from nbconvert->jupyter->streamlit_jupyter) (2.1.3)\n",
      "Requirement already satisfied: mistune<4,>=2.0.3 in /home/alfred/anaconda3/envs/dui/lib/python3.11/site-packages (from nbconvert->jupyter->streamlit_jupyter) (3.0.1)\n",
      "Requirement already satisfied: nbclient>=0.5.0 in /home/alfred/anaconda3/envs/dui/lib/python3.11/site-packages (from nbconvert->jupyter->streamlit_jupyter) (0.8.0)\n",
      "Requirement already satisfied: nbformat>=5.7 in /home/alfred/anaconda3/envs/dui/lib/python3.11/site-packages (from nbconvert->jupyter->streamlit_jupyter) (5.9.2)\n",
      "Requirement already satisfied: pandocfilters>=1.4.1 in /home/alfred/anaconda3/envs/dui/lib/python3.11/site-packages (from nbconvert->jupyter->streamlit_jupyter) (1.5.0)\n",
      "Requirement already satisfied: tinycss2 in /home/alfred/anaconda3/envs/dui/lib/python3.11/site-packages (from nbconvert->jupyter->streamlit_jupyter) (1.2.1)\n",
      "Collecting qtpy>=2.4.0 (from qtconsole->jupyter->streamlit_jupyter)\n",
      "  Downloading QtPy-2.4.1-py3-none-any.whl.metadata (12 kB)\n",
      "Requirement already satisfied: six>=1.9.0 in /home/alfred/anaconda3/envs/dui/lib/python3.11/site-packages (from bleach!=5.0.0->nbconvert->jupyter->streamlit_jupyter) (1.16.0)\n",
      "Requirement already satisfied: webencodings in /home/alfred/anaconda3/envs/dui/lib/python3.11/site-packages (from bleach!=5.0.0->nbconvert->jupyter->streamlit_jupyter) (0.5.1)\n",
      "Requirement already satisfied: smmap<6,>=3.0.1 in /home/alfred/anaconda3/envs/dui/lib/python3.11/site-packages (from gitdb<5,>=4.0.1->gitpython!=3.1.19,<4,>=3.0.7->streamlit>=1.19->streamlit_jupyter) (5.0.1)\n",
      "Requirement already satisfied: parso<0.9.0,>=0.8.0 in /home/alfred/anaconda3/envs/dui/lib/python3.11/site-packages (from jedi>=0.16->ipython>=4.0.0->ipywidgets==7.7.2->streamlit_jupyter) (0.8.3)\n",
      "Requirement already satisfied: attrs>=22.2.0 in /home/alfred/anaconda3/envs/dui/lib/python3.11/site-packages (from jsonschema>=3.0->altair<6,>=4.0->streamlit>=1.19->streamlit_jupyter) (23.1.0)\n",
      "Requirement already satisfied: jsonschema-specifications>=2023.03.6 in /home/alfred/anaconda3/envs/dui/lib/python3.11/site-packages (from jsonschema>=3.0->altair<6,>=4.0->streamlit>=1.19->streamlit_jupyter) (2023.7.1)\n",
      "Requirement already satisfied: referencing>=0.28.4 in /home/alfred/anaconda3/envs/dui/lib/python3.11/site-packages (from jsonschema>=3.0->altair<6,>=4.0->streamlit>=1.19->streamlit_jupyter) (0.30.2)\n",
      "Requirement already satisfied: rpds-py>=0.7.1 in /home/alfred/anaconda3/envs/dui/lib/python3.11/site-packages (from jsonschema>=3.0->altair<6,>=4.0->streamlit>=1.19->streamlit_jupyter) (0.10.3)\n",
      "Requirement already satisfied: platformdirs>=2.5 in /home/alfred/anaconda3/envs/dui/lib/python3.11/site-packages (from jupyter-core!=5.0.*,>=4.12->ipykernel>=4.5.1->ipywidgets==7.7.2->streamlit_jupyter) (4.1.0)\n",
      "Requirement already satisfied: anyio>=3.1.0 in /home/alfred/anaconda3/envs/dui/lib/python3.11/site-packages (from jupyter-server<3,>=2.4.0->notebook->jupyter->streamlit_jupyter) (3.7.1)\n",
      "Requirement already satisfied: argon2-cffi in /home/alfred/anaconda3/envs/dui/lib/python3.11/site-packages (from jupyter-server<3,>=2.4.0->notebook->jupyter->streamlit_jupyter) (23.1.0)\n",
      "Requirement already satisfied: jupyter-events>=0.9.0 in /home/alfred/anaconda3/envs/dui/lib/python3.11/site-packages (from jupyter-server<3,>=2.4.0->notebook->jupyter->streamlit_jupyter) (0.10.0)\n",
      "Requirement already satisfied: jupyter-server-terminals in /home/alfred/anaconda3/envs/dui/lib/python3.11/site-packages (from jupyter-server<3,>=2.4.0->notebook->jupyter->streamlit_jupyter) (0.5.3)\n",
      "Requirement already satisfied: overrides in /home/alfred/anaconda3/envs/dui/lib/python3.11/site-packages (from jupyter-server<3,>=2.4.0->notebook->jupyter->streamlit_jupyter) (7.4.0)\n",
      "Requirement already satisfied: prometheus-client in /home/alfred/anaconda3/envs/dui/lib/python3.11/site-packages (from jupyter-server<3,>=2.4.0->notebook->jupyter->streamlit_jupyter) (0.17.1)\n",
      "Requirement already satisfied: send2trash>=1.8.2 in /home/alfred/anaconda3/envs/dui/lib/python3.11/site-packages (from jupyter-server<3,>=2.4.0->notebook->jupyter->streamlit_jupyter) (1.8.2)\n",
      "Requirement already satisfied: terminado>=0.8.3 in /home/alfred/anaconda3/envs/dui/lib/python3.11/site-packages (from jupyter-server<3,>=2.4.0->notebook->jupyter->streamlit_jupyter) (0.17.1)\n",
      "Requirement already satisfied: websocket-client in /home/alfred/anaconda3/envs/dui/lib/python3.11/site-packages (from jupyter-server<3,>=2.4.0->notebook->jupyter->streamlit_jupyter) (1.6.3)\n",
      "Requirement already satisfied: async-lru>=1.0.0 in /home/alfred/anaconda3/envs/dui/lib/python3.11/site-packages (from jupyterlab<5,>=4.0.2->notebook->jupyter->streamlit_jupyter) (2.0.4)\n",
      "Requirement already satisfied: httpx>=0.25.0 in /home/alfred/anaconda3/envs/dui/lib/python3.11/site-packages (from jupyterlab<5,>=4.0.2->notebook->jupyter->streamlit_jupyter) (0.25.2)\n",
      "Requirement already satisfied: jupyter-lsp>=2.0.0 in /home/alfred/anaconda3/envs/dui/lib/python3.11/site-packages (from jupyterlab<5,>=4.0.2->notebook->jupyter->streamlit_jupyter) (2.2.4)\n",
      "Requirement already satisfied: babel>=2.10 in /home/alfred/anaconda3/envs/dui/lib/python3.11/site-packages (from jupyterlab-server<3,>=2.22.1->notebook->jupyter->streamlit_jupyter) (2.12.1)\n",
      "Requirement already satisfied: json5>=0.9.0 in /home/alfred/anaconda3/envs/dui/lib/python3.11/site-packages (from jupyterlab-server<3,>=2.22.1->notebook->jupyter->streamlit_jupyter) (0.9.14)\n",
      "Requirement already satisfied: mdurl~=0.1 in /home/alfred/anaconda3/envs/dui/lib/python3.11/site-packages (from markdown-it-py>=2.2.0->rich<14,>=10.14.0->streamlit>=1.19->streamlit_jupyter) (0.1.2)\n",
      "Requirement already satisfied: fastjsonschema in /home/alfred/anaconda3/envs/dui/lib/python3.11/site-packages (from nbformat>=5.7->nbconvert->jupyter->streamlit_jupyter) (2.18.0)\n",
      "Requirement already satisfied: ptyprocess>=0.5 in /home/alfred/anaconda3/envs/dui/lib/python3.11/site-packages (from pexpect>4.3->ipython>=4.0.0->ipywidgets==7.7.2->streamlit_jupyter) (0.7.0)\n",
      "Requirement already satisfied: wcwidth in /home/alfred/anaconda3/envs/dui/lib/python3.11/site-packages (from prompt-toolkit!=3.0.37,<3.1.0,>=3.0.30->ipython>=4.0.0->ipywidgets==7.7.2->streamlit_jupyter) (0.2.13)\n",
      "Requirement already satisfied: soupsieve>1.2 in /home/alfred/anaconda3/envs/dui/lib/python3.11/site-packages (from beautifulsoup4->nbconvert->jupyter->streamlit_jupyter) (2.5)\n",
      "Requirement already satisfied: executing in /home/alfred/anaconda3/envs/dui/lib/python3.11/site-packages (from stack-data->ipython>=4.0.0->ipywidgets==7.7.2->streamlit_jupyter) (0.8.3)\n",
      "Requirement already satisfied: asttokens in /home/alfred/anaconda3/envs/dui/lib/python3.11/site-packages (from stack-data->ipython>=4.0.0->ipywidgets==7.7.2->streamlit_jupyter) (2.0.5)\n",
      "Requirement already satisfied: pure-eval in /home/alfred/anaconda3/envs/dui/lib/python3.11/site-packages (from stack-data->ipython>=4.0.0->ipywidgets==7.7.2->streamlit_jupyter) (0.2.2)\n",
      "Requirement already satisfied: sniffio>=1.1 in /home/alfred/anaconda3/envs/dui/lib/python3.11/site-packages (from anyio>=3.1.0->jupyter-server<3,>=2.4.0->notebook->jupyter->streamlit_jupyter) (1.3.0)\n",
      "Requirement already satisfied: httpcore==1.* in /home/alfred/anaconda3/envs/dui/lib/python3.11/site-packages (from httpx>=0.25.0->jupyterlab<5,>=4.0.2->notebook->jupyter->streamlit_jupyter) (1.0.2)\n",
      "Requirement already satisfied: h11<0.15,>=0.13 in /home/alfred/anaconda3/envs/dui/lib/python3.11/site-packages (from httpcore==1.*->httpx>=0.25.0->jupyterlab<5,>=4.0.2->notebook->jupyter->streamlit_jupyter) (0.14.0)\n",
      "Requirement already satisfied: python-json-logger>=2.0.4 in /home/alfred/anaconda3/envs/dui/lib/python3.11/site-packages (from jupyter-events>=0.9.0->jupyter-server<3,>=2.4.0->notebook->jupyter->streamlit_jupyter) (2.0.7)\n",
      "Requirement already satisfied: pyyaml>=5.3 in /home/alfred/anaconda3/envs/dui/lib/python3.11/site-packages (from jupyter-events>=0.9.0->jupyter-server<3,>=2.4.0->notebook->jupyter->streamlit_jupyter) (6.0.1)\n",
      "Requirement already satisfied: rfc3339-validator in /home/alfred/anaconda3/envs/dui/lib/python3.11/site-packages (from jupyter-events>=0.9.0->jupyter-server<3,>=2.4.0->notebook->jupyter->streamlit_jupyter) (0.1.4)\n",
      "Requirement already satisfied: rfc3986-validator>=0.1.1 in /home/alfred/anaconda3/envs/dui/lib/python3.11/site-packages (from jupyter-events>=0.9.0->jupyter-server<3,>=2.4.0->notebook->jupyter->streamlit_jupyter) (0.1.1)\n",
      "Requirement already satisfied: argon2-cffi-bindings in /home/alfred/anaconda3/envs/dui/lib/python3.11/site-packages (from argon2-cffi->jupyter-server<3,>=2.4.0->notebook->jupyter->streamlit_jupyter) (21.2.0)\n",
      "Requirement already satisfied: fqdn in /home/alfred/anaconda3/envs/dui/lib/python3.11/site-packages (from jsonschema[format-nongpl]>=4.18.0->jupyter-events>=0.9.0->jupyter-server<3,>=2.4.0->notebook->jupyter->streamlit_jupyter) (1.5.1)\n",
      "Requirement already satisfied: isoduration in /home/alfred/anaconda3/envs/dui/lib/python3.11/site-packages (from jsonschema[format-nongpl]>=4.18.0->jupyter-events>=0.9.0->jupyter-server<3,>=2.4.0->notebook->jupyter->streamlit_jupyter) (20.11.0)\n",
      "Requirement already satisfied: jsonpointer>1.13 in /home/alfred/anaconda3/envs/dui/lib/python3.11/site-packages (from jsonschema[format-nongpl]>=4.18.0->jupyter-events>=0.9.0->jupyter-server<3,>=2.4.0->notebook->jupyter->streamlit_jupyter) (2.4)\n",
      "Requirement already satisfied: uri-template in /home/alfred/anaconda3/envs/dui/lib/python3.11/site-packages (from jsonschema[format-nongpl]>=4.18.0->jupyter-events>=0.9.0->jupyter-server<3,>=2.4.0->notebook->jupyter->streamlit_jupyter) (1.3.0)\n",
      "Requirement already satisfied: webcolors>=1.11 in /home/alfred/anaconda3/envs/dui/lib/python3.11/site-packages (from jsonschema[format-nongpl]>=4.18.0->jupyter-events>=0.9.0->jupyter-server<3,>=2.4.0->notebook->jupyter->streamlit_jupyter) (1.13)\n",
      "Requirement already satisfied: cffi>=1.0.1 in /home/alfred/anaconda3/envs/dui/lib/python3.11/site-packages (from argon2-cffi-bindings->argon2-cffi->jupyter-server<3,>=2.4.0->notebook->jupyter->streamlit_jupyter) (1.15.1)\n",
      "Requirement already satisfied: pycparser in /home/alfred/anaconda3/envs/dui/lib/python3.11/site-packages (from cffi>=1.0.1->argon2-cffi-bindings->argon2-cffi->jupyter-server<3,>=2.4.0->notebook->jupyter->streamlit_jupyter) (2.21)\n",
      "Requirement already satisfied: arrow>=0.15.0 in /home/alfred/anaconda3/envs/dui/lib/python3.11/site-packages (from isoduration->jsonschema[format-nongpl]>=4.18.0->jupyter-events>=0.9.0->jupyter-server<3,>=2.4.0->notebook->jupyter->streamlit_jupyter) (1.3.0)\n",
      "Requirement already satisfied: types-python-dateutil>=2.8.10 in /home/alfred/anaconda3/envs/dui/lib/python3.11/site-packages (from arrow>=0.15.0->isoduration->jsonschema[format-nongpl]>=4.18.0->jupyter-events>=0.9.0->jupyter-server<3,>=2.4.0->notebook->jupyter->streamlit_jupyter) (2.8.19.14)\n",
      "Downloading streamlit_jupyter-0.2.1-py3-none-any.whl (13 kB)\n",
      "Downloading ipywidgets-7.7.2-py2.py3-none-any.whl (123 kB)\n",
      "\u001b[2K   \u001b[90m━━━━━━━━━━━━━━━━━━━━━━━━━━━━━━━━━━━━━━━━\u001b[0m \u001b[32m123.4/123.4 kB\u001b[0m \u001b[31m7.5 MB/s\u001b[0m eta \u001b[36m0:00:00\u001b[0m\n",
      "\u001b[?25hDownloading fastcore-1.5.29-py3-none-any.whl (67 kB)\n",
      "\u001b[2K   \u001b[90m━━━━━━━━━━━━━━━━━━━━━━━━━━━━━━━━━━━━━━━━\u001b[0m \u001b[32m67.6/67.6 kB\u001b[0m \u001b[31m12.7 MB/s\u001b[0m eta \u001b[36m0:00:00\u001b[0m\n",
      "\u001b[?25hDownloading jupyter-1.0.0-py2.py3-none-any.whl (2.7 kB)\n",
      "Downloading stqdm-0.0.5-py3-none-any.whl (11 kB)\n",
      "Downloading jupyterlab_widgets-1.1.7-py3-none-any.whl (295 kB)\n",
      "\u001b[2K   \u001b[90m━━━━━━━━━━━━━━━━━━━━━━━━━━━━━━━━━━━━━━━━\u001b[0m \u001b[32m295.4/295.4 kB\u001b[0m \u001b[31m17.8 MB/s\u001b[0m eta \u001b[36m0:00:00\u001b[0m\n",
      "\u001b[?25hDownloading widgetsnbextension-3.6.6-py2.py3-none-any.whl (1.6 MB)\n",
      "\u001b[2K   \u001b[90m━━━━━━━━━━━━━━━━━━━━━━━━━━━━━━━━━━━━━━━━\u001b[0m \u001b[32m1.6/1.6 MB\u001b[0m \u001b[31m71.5 MB/s\u001b[0m eta \u001b[36m0:00:00\u001b[0m\n",
      "\u001b[?25hDownloading jupyter_console-6.6.3-py3-none-any.whl (24 kB)\n",
      "Downloading qtconsole-5.5.1-py3-none-any.whl (123 kB)\n",
      "\u001b[2K   \u001b[90m━━━━━━━━━━━━━━━━━━━━━━━━━━━━━━━━━━━━━━━━\u001b[0m \u001b[32m123.4/123.4 kB\u001b[0m \u001b[31m21.4 MB/s\u001b[0m eta \u001b[36m0:00:00\u001b[0m\n",
      "\u001b[?25hDownloading QtPy-2.4.1-py3-none-any.whl (93 kB)\n",
      "\u001b[2K   \u001b[90m━━━━━━━━━━━━━━━━━━━━━━━━━━━━━━━━━━━━━━━━\u001b[0m \u001b[32m93.5/93.5 kB\u001b[0m \u001b[31m19.1 MB/s\u001b[0m eta \u001b[36m0:00:00\u001b[0m\n",
      "\u001b[?25hInstalling collected packages: qtpy, jupyterlab-widgets, fastcore, qtconsole, jupyter-console, stqdm, widgetsnbextension, ipywidgets, jupyter, streamlit_jupyter\n",
      "  Attempting uninstall: jupyterlab-widgets\n",
      "    Found existing installation: jupyterlab_widgets 3.0.10\n",
      "    Uninstalling jupyterlab_widgets-3.0.10:\n",
      "      Successfully uninstalled jupyterlab_widgets-3.0.10\n",
      "  Attempting uninstall: widgetsnbextension\n",
      "    Found existing installation: widgetsnbextension 4.0.9\n",
      "    Uninstalling widgetsnbextension-4.0.9:\n",
      "      Successfully uninstalled widgetsnbextension-4.0.9\n",
      "  Attempting uninstall: ipywidgets\n",
      "    Found existing installation: ipywidgets 8.1.1\n",
      "    Uninstalling ipywidgets-8.1.1:\n",
      "      Successfully uninstalled ipywidgets-8.1.1\n",
      "\u001b[31mERROR: pip's dependency resolver does not currently take into account all the packages that are installed. This behaviour is the source of the following dependency conflicts.\n",
      "langchain-benchmarks 0.0.10 requires ipywidgets<9,>=8, but you have ipywidgets 7.7.2 which is incompatible.\u001b[0m\u001b[31m\n",
      "\u001b[0mSuccessfully installed fastcore-1.5.29 ipywidgets-7.7.2 jupyter-1.0.0 jupyter-console-6.6.3 jupyterlab-widgets-1.1.7 qtconsole-5.5.1 qtpy-2.4.1 stqdm-0.0.5 streamlit_jupyter-0.2.1 widgetsnbextension-3.6.6\n"
     ]
    }
   ],
   "source": [
    "%pip install streamlit --upgrade\n",
    "!pip install streamlit_jupyter --upgrade"
   ]
  },
  {
   "cell_type": "code",
   "execution_count": 2,
   "id": "04fbec6f-5ede-4059-a14f-1b6dd1cc43ca",
   "metadata": {},
   "outputs": [
    {
     "data": {
      "text/html": [
       "<script>Jupyter.notebook.kernel.restart()</script>"
      ],
      "text/plain": [
       "<IPython.core.display.HTML object>"
      ]
     },
     "execution_count": 2,
     "metadata": {},
     "output_type": "execute_result"
    }
   ],
   "source": [
    "# restart kernel\n",
    "from IPython.core.display import HTML\n",
    "HTML(\"<script>Jupyter.notebook.kernel.restart()</script>\")"
   ]
  },
  {
   "cell_type": "code",
   "execution_count": 3,
   "id": "8673f206-a613-4bbf-9224-2cbb0597c02e",
   "metadata": {},
   "outputs": [],
   "source": [
    "%load_ext autoreload\n",
    "%autoreload 2"
   ]
  },
  {
   "cell_type": "markdown",
   "id": "dd22c7fc-5407-402b-b4e6-064c1196a563",
   "metadata": {},
   "source": [
    "## Import needed packages"
   ]
  },
  {
   "cell_type": "code",
   "execution_count": 4,
   "id": "19375b05-5ca0-4bbf-9586-138c0d1c6e26",
   "metadata": {},
   "outputs": [],
   "source": [
    "import streamlit as st\n",
    "from streamlit_jupyter import StreamlitPatcher, tqdm"
   ]
  },
  {
   "cell_type": "code",
   "execution_count": 5,
   "id": "db8fde10-ee3d-47f0-bdf8-14e328baa5d4",
   "metadata": {},
   "outputs": [],
   "source": [
    "sp = StreamlitPatcher()\n",
    "sp.jupyter()  # register patcher with streamlit"
   ]
  },
  {
   "cell_type": "markdown",
   "id": "78f39397-04c1-4e52-bef3-2315fc0be11c",
   "metadata": {},
   "source": [
    "## Start Streamlit UI"
   ]
  },
  {
   "cell_type": "code",
   "execution_count": 6,
   "id": "64397e9f-386e-4246-926e-1091924b0359",
   "metadata": {},
   "outputs": [
    {
     "data": {
      "text/markdown": [
       "# Multimodal Demo"
      ],
      "text/plain": [
       "<IPython.core.display.Markdown object>"
      ]
     },
     "metadata": {},
     "output_type": "display_data"
    }
   ],
   "source": [
    "st.set_page_config(page_title=\"MM-RAG Demo\",page_icon=\"🩺\",layout=\"wide\")\n",
    "st.title(\"Multimodal Demo\")"
   ]
  },
  {
   "cell_type": "markdown",
   "id": "e361b779-d2a3-450d-95e2-019261485b2b",
   "metadata": {},
   "source": [
    "## Integrate with mmRAG"
   ]
  },
  {
   "cell_type": "markdown",
   "id": "b0b7d1c2-8000-42b7-b12f-8ffc7ef87d37",
   "metadata": {},
   "source": [
    "### ST sidebar"
   ]
  },
  {
   "cell_type": "code",
   "execution_count": 11,
   "id": "e3ade310-0835-4bdc-bb80-2c628f6115e8",
   "metadata": {},
   "outputs": [
    {
     "data": {
      "text/markdown": [
       "# :orange[Multimodal Config] :pencil2:"
      ],
      "text/plain": [
       "<IPython.core.display.Markdown object>"
      ]
     },
     "metadata": {},
     "output_type": "display_data"
    },
    {
     "data": {
      "application/vnd.jupyter.widget-view+json": {
       "model_id": "6e2f12728e4545ac892a60191d5b54c1",
       "version_major": 2,
       "version_minor": 0
      },
      "text/plain": [
       "Dropdown(description='Choose Model', options=('anthropic.claude-3-haiku-20240307-v1:0', 'anthropic.claude-3-so…"
      ]
     },
     "metadata": {},
     "output_type": "display_data"
    },
    {
     "data": {
      "text/markdown": [
       "------- Default parameters ----------"
      ],
      "text/plain": [
       "<IPython.core.display.Markdown object>"
      ]
     },
     "metadata": {},
     "output_type": "display_data"
    },
    {
     "data": {
      "application/vnd.jupyter.widget-view+json": {
       "model_id": "5ad85ea2b6b54fc1a3e015c9d4111c23",
       "version_major": 2,
       "version_minor": 0
      },
      "text/plain": [
       "Textarea(value='\\n\\n\\n', description='The set of character sequences (up to 5) that will stop output generatio…"
      ]
     },
     "metadata": {},
     "output_type": "display_data"
    }
   ],
   "source": [
    "#@st.cache_data\n",
    "#@st.cache_resource\n",
    "st.title(':orange[Multimodal Config] :pencil2:')\n",
    "option = st.selectbox('Choose Model',('anthropic.claude-3-haiku-20240307-v1:0', \n",
    "                                      'anthropic.claude-3-sonnet-20240229-v1:0', \n",
    "                                      'mistral.mistral-large-2402-v1:0'))\n",
    "\n",
    "st.write(\"------- Default parameters ----------\")\n",
    "temperature = st.number_input(\"Temperature\", min_value=0.0, max_value=1.0, value=0.1, step=0.05)\n",
    "max_token = st.number_input(\"Maximum Output Token\", min_value=0, value=1024, step=64)\n",
    "top_p = st.number_input(\"Top_p: The cumulative probability cutoff for token selection\", min_value=0.1, value=0.85)\n",
    "top_k = st.number_input(\"Top_k: Sample from the k most likely next tokens at each step\", min_value=1, value=40)\n",
    "#candidate_count = st.number_input(\"Number of generated responses to return\", min_value=1, value=1)\n",
    "stop_sequences = st.text_input(\"The set of character sequences (up to 5) that will stop output generation\", value=\"\\n\\n\\n\")"
   ]
  },
  {
   "cell_type": "markdown",
   "id": "24febe0b-3740-4431-911e-f288707c9e00",
   "metadata": {},
   "source": [
    "### ST body"
   ]
  },
  {
   "cell_type": "code",
   "execution_count": 10,
   "id": "f69feee2-5633-49c7-9a17-66a6627329ff",
   "metadata": {},
   "outputs": [
    {
     "ename": "AttributeError",
     "evalue": "st.session_state has no attribute \"messages\". Did you forget to initialize it? More info: https://docs.streamlit.io/library/advanced-features/session-state#initialization",
     "output_type": "error",
     "traceback": [
      "\u001b[0;31m---------------------------------------------------------------------------\u001b[0m",
      "\u001b[0;31mKeyError\u001b[0m                                  Traceback (most recent call last)",
      "File \u001b[0;32m~/anaconda3/envs/dui/lib/python3.11/site-packages/streamlit/runtime/state/session_state.py:408\u001b[0m, in \u001b[0;36mSessionState.__getitem__\u001b[0;34m(self, key)\u001b[0m\n\u001b[1;32m    407\u001b[0m \u001b[38;5;28;01mtry\u001b[39;00m:\n\u001b[0;32m--> 408\u001b[0m     \u001b[38;5;28;01mreturn\u001b[39;00m \u001b[38;5;28mself\u001b[39m\u001b[38;5;241m.\u001b[39m_getitem(widget_id, key)\n\u001b[1;32m    409\u001b[0m \u001b[38;5;28;01mexcept\u001b[39;00m \u001b[38;5;167;01mKeyError\u001b[39;00m:\n",
      "File \u001b[0;32m~/anaconda3/envs/dui/lib/python3.11/site-packages/streamlit/runtime/state/session_state.py:453\u001b[0m, in \u001b[0;36mSessionState._getitem\u001b[0;34m(self, widget_id, user_key)\u001b[0m\n\u001b[1;32m    452\u001b[0m \u001b[38;5;66;03m# We'll never get here\u001b[39;00m\n\u001b[0;32m--> 453\u001b[0m \u001b[38;5;28;01mraise\u001b[39;00m \u001b[38;5;167;01mKeyError\u001b[39;00m\n",
      "\u001b[0;31mKeyError\u001b[0m: ",
      "\nDuring handling of the above exception, another exception occurred:\n",
      "\u001b[0;31mKeyError\u001b[0m                                  Traceback (most recent call last)",
      "File \u001b[0;32m~/anaconda3/envs/dui/lib/python3.11/site-packages/streamlit/runtime/state/session_state_proxy.py:119\u001b[0m, in \u001b[0;36mSessionStateProxy.__getattr__\u001b[0;34m(self, key)\u001b[0m\n\u001b[1;32m    118\u001b[0m \u001b[38;5;28;01mtry\u001b[39;00m:\n\u001b[0;32m--> 119\u001b[0m     \u001b[38;5;28;01mreturn\u001b[39;00m \u001b[38;5;28mself\u001b[39m[key]\n\u001b[1;32m    120\u001b[0m \u001b[38;5;28;01mexcept\u001b[39;00m \u001b[38;5;167;01mKeyError\u001b[39;00m:\n",
      "File \u001b[0;32m~/anaconda3/envs/dui/lib/python3.11/site-packages/streamlit/runtime/state/session_state_proxy.py:90\u001b[0m, in \u001b[0;36mSessionStateProxy.__getitem__\u001b[0;34m(self, key)\u001b[0m\n\u001b[1;32m     89\u001b[0m require_valid_user_key(key)\n\u001b[0;32m---> 90\u001b[0m \u001b[38;5;28;01mreturn\u001b[39;00m get_session_state()[key]\n",
      "File \u001b[0;32m~/anaconda3/envs/dui/lib/python3.11/site-packages/streamlit/runtime/state/safe_session_state.py:93\u001b[0m, in \u001b[0;36mSafeSessionState.__getitem__\u001b[0;34m(self, key)\u001b[0m\n\u001b[1;32m     92\u001b[0m \u001b[38;5;28;01mwith\u001b[39;00m \u001b[38;5;28mself\u001b[39m\u001b[38;5;241m.\u001b[39m_lock:\n\u001b[0;32m---> 93\u001b[0m     \u001b[38;5;28;01mreturn\u001b[39;00m \u001b[38;5;28mself\u001b[39m\u001b[38;5;241m.\u001b[39m_state[key]\n",
      "File \u001b[0;32m~/anaconda3/envs/dui/lib/python3.11/site-packages/streamlit/runtime/state/session_state.py:410\u001b[0m, in \u001b[0;36mSessionState.__getitem__\u001b[0;34m(self, key)\u001b[0m\n\u001b[1;32m    409\u001b[0m \u001b[38;5;28;01mexcept\u001b[39;00m \u001b[38;5;167;01mKeyError\u001b[39;00m:\n\u001b[0;32m--> 410\u001b[0m     \u001b[38;5;28;01mraise\u001b[39;00m \u001b[38;5;167;01mKeyError\u001b[39;00m(_missing_key_error_message(key))\n",
      "\u001b[0;31mKeyError\u001b[0m: 'st.session_state has no key \"messages\". Did you forget to initialize it? More info: https://docs.streamlit.io/library/advanced-features/session-state#initialization'",
      "\nDuring handling of the above exception, another exception occurred:\n",
      "\u001b[0;31mAttributeError\u001b[0m                            Traceback (most recent call last)",
      "Cell \u001b[0;32mIn[10], line 4\u001b[0m\n\u001b[1;32m      1\u001b[0m \u001b[38;5;28;01mif\u001b[39;00m \u001b[38;5;124m\"\u001b[39m\u001b[38;5;124mmessages\u001b[39m\u001b[38;5;124m\"\u001b[39m \u001b[38;5;129;01mnot\u001b[39;00m \u001b[38;5;129;01min\u001b[39;00m st\u001b[38;5;241m.\u001b[39msession_state:\n\u001b[1;32m      2\u001b[0m     st\u001b[38;5;241m.\u001b[39msession_state[\u001b[38;5;124m\"\u001b[39m\u001b[38;5;124mmessages\u001b[39m\u001b[38;5;124m\"\u001b[39m] \u001b[38;5;241m=\u001b[39m [{\u001b[38;5;124m\"\u001b[39m\u001b[38;5;124mrole\u001b[39m\u001b[38;5;124m\"\u001b[39m: \u001b[38;5;124m\"\u001b[39m\u001b[38;5;124massistant\u001b[39m\u001b[38;5;124m\"\u001b[39m, \u001b[38;5;124m\"\u001b[39m\u001b[38;5;124mcontent\u001b[39m\u001b[38;5;124m\"\u001b[39m: \u001b[38;5;124m\"\u001b[39m\u001b[38;5;124mI am your assistant. How can I help today?\u001b[39m\u001b[38;5;124m\"\u001b[39m}]\n\u001b[0;32m----> 4\u001b[0m \u001b[38;5;28;01mfor\u001b[39;00m msg \u001b[38;5;129;01min\u001b[39;00m st\u001b[38;5;241m.\u001b[39msession_state\u001b[38;5;241m.\u001b[39mmessages:\n\u001b[1;32m      5\u001b[0m     st\u001b[38;5;241m.\u001b[39mchat_message(msg[\u001b[38;5;124m\"\u001b[39m\u001b[38;5;124mrole\u001b[39m\u001b[38;5;124m\"\u001b[39m])\u001b[38;5;241m.\u001b[39mwrite(msg[\u001b[38;5;124m\"\u001b[39m\u001b[38;5;124mcontent\u001b[39m\u001b[38;5;124m\"\u001b[39m])\n",
      "File \u001b[0;32m~/anaconda3/envs/dui/lib/python3.11/site-packages/streamlit/runtime/state/session_state_proxy.py:121\u001b[0m, in \u001b[0;36mSessionStateProxy.__getattr__\u001b[0;34m(self, key)\u001b[0m\n\u001b[1;32m    119\u001b[0m     \u001b[38;5;28;01mreturn\u001b[39;00m \u001b[38;5;28mself\u001b[39m[key]\n\u001b[1;32m    120\u001b[0m \u001b[38;5;28;01mexcept\u001b[39;00m \u001b[38;5;167;01mKeyError\u001b[39;00m:\n\u001b[0;32m--> 121\u001b[0m     \u001b[38;5;28;01mraise\u001b[39;00m \u001b[38;5;167;01mAttributeError\u001b[39;00m(_missing_attr_error_message(key))\n",
      "\u001b[0;31mAttributeError\u001b[0m: st.session_state has no attribute \"messages\". Did you forget to initialize it? More info: https://docs.streamlit.io/library/advanced-features/session-state#initialization"
     ]
    }
   ],
   "source": [
    "if \"messages\" not in st.session_state:\n",
    "    st.session_state[\"messages\"] = [{\"role\": \"assistant\", \"content\": \"I am your assistant. How can I help today?\"}]\n",
    "\n",
    "for msg in st.session_state.messages:\n",
    "    st.chat_message(msg[\"role\"]).write(msg[\"content\"])"
   ]
  },
  {
   "cell_type": "code",
   "execution_count": null,
   "id": "5468d50d-f7c6-4fbf-9ec2-ecc5fb481100",
   "metadata": {},
   "outputs": [],
   "source": []
  }
 ],
 "metadata": {
  "kernelspec": {
   "display_name": "dui",
   "language": "python",
   "name": "dui"
  },
  "language_info": {
   "codemirror_mode": {
    "name": "ipython",
    "version": 3
   },
   "file_extension": ".py",
   "mimetype": "text/x-python",
   "name": "python",
   "nbconvert_exporter": "python",
   "pygments_lexer": "ipython3",
   "version": "3.11.5"
  }
 },
 "nbformat": 4,
 "nbformat_minor": 5
}
